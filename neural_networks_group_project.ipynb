{
  "nbformat": 4,
  "nbformat_minor": 0,
  "metadata": {
    "colab": {
      "provenance": [],
      "authorship_tag": "ABX9TyOsX9dlkBYy7BrUpM6qa/cU",
      "include_colab_link": true
    },
    "kernelspec": {
      "name": "python3",
      "display_name": "Python 3"
    },
    "language_info": {
      "name": "python"
    }
  },
  "cells": [
    {
      "cell_type": "markdown",
      "metadata": {
        "id": "view-in-github",
        "colab_type": "text"
      },
      "source": [
        "<a href=\"https://colab.research.google.com/github/anaustinbeing/neural-networks-group-project/blob/main/neural_networks_group_project.ipynb\" target=\"_parent\"><img src=\"https://colab.research.google.com/assets/colab-badge.svg\" alt=\"Open In Colab\"/></a>"
      ]
    },
    {
      "cell_type": "code",
      "execution_count": null,
      "metadata": {
        "id": "dzyMlMtw9GH1"
      },
      "outputs": [],
      "source": [
        "import pandas as pd\n",
        "import numpy as np\n",
        "import matplotlib.pyplot as plt\n",
        "\n",
        "from sklearn.neural_network import MLPClassifier\n",
        "from sklearn.model_selection import train_test_split\n",
        "from sklearn.metrics import accuracy_score, explained_variance_score\n",
        "\n",
        "from tensorflow.keras.models import Sequential\n",
        "from tensorflow.keras.layers import Dense, Flatten, LeakyReLU, Dropout\n",
        "import tensorflow.keras as keras\n",
        "import tensorflow as tf"
      ]
    },
    {
      "cell_type": "markdown",
      "source": [
        "### Loading dataset"
      ],
      "metadata": {
        "id": "3IDSUrIWtuMJ"
      }
    },
    {
      "cell_type": "code",
      "source": [
        "df = pd.read_csv('Student data.csv', na_values='?')"
      ],
      "metadata": {
        "id": "vtIvTpnG95LU"
      },
      "execution_count": null,
      "outputs": []
    },
    {
      "cell_type": "code",
      "source": [
        "df.shape"
      ],
      "metadata": {
        "colab": {
          "base_uri": "https://localhost:8080/"
        },
        "id": "fydEWq_UAIf6",
        "outputId": "bbf8fd06-ec4d-4e92-e0a5-71c469229d2b"
      },
      "execution_count": null,
      "outputs": [
        {
          "output_type": "execute_result",
          "data": {
            "text/plain": [
              "(1437, 15)"
            ]
          },
          "metadata": {},
          "execution_count": 82
        }
      ]
    },
    {
      "cell_type": "code",
      "source": [
        "df"
      ],
      "metadata": {
        "colab": {
          "base_uri": "https://localhost:8080/",
          "height": 540
        },
        "id": "zcjwmrX9--Df",
        "outputId": "f39a72c2-d92a-4a26-affd-2b1dc1feb699"
      },
      "execution_count": null,
      "outputs": [
        {
          "output_type": "execute_result",
          "data": {
            "text/plain": [
              "      First Term Gpa  Second Term Gpa  First Language   Funding  School  \\\n",
              "0           0.000000         0.000000             1.0         2       6   \n",
              "1           2.500000         2.000000             3.0         4       6   \n",
              "2           4.250000         3.923077             1.0         1       6   \n",
              "3           3.020833         2.321429             3.0         4       6   \n",
              "4           4.275000         4.326923             1.0         2       6   \n",
              "...              ...              ...             ...       ...     ...   \n",
              "1432        1.413043         0.000000             NaN         4       6   \n",
              "1433        4.360000         4.074074             1.0         2       6   \n",
              "1434        2.020833         2.450000             1.0         2       6   \n",
              "1435        4.021739         4.357143             NaN         4       6   \n",
              "1436        2.133333         3.205882             1.0         2       6   \n",
              "\n",
              "      FastTrack  Coop   Residency  Gender  Previous Education  Age Group  \\\n",
              "0             2     1           1       2                 1.0        1.0   \n",
              "1             1     2           2       2                 1.0        3.0   \n",
              "2             2     1           1       1                 2.0        3.0   \n",
              "3             1     2           2       2                 2.0        3.0   \n",
              "4             1     1           1       1                 2.0        3.0   \n",
              "...         ...   ...         ...     ...                 ...        ...   \n",
              "1432          2     2           2       2                 1.0        1.0   \n",
              "1433          1     1           1       1                 2.0        4.0   \n",
              "1434          2     1           1       2                 1.0        1.0   \n",
              "1435          2     1           2       1                 1.0        2.0   \n",
              "1436          2     2           1       1                 1.0        1.0   \n",
              "\n",
              "      High School Average Mark  Math Score  English Grade  \\\n",
              "0                         59.0        16.0            7.0   \n",
              "1                          NaN         NaN            7.0   \n",
              "2                         92.0        41.0            9.0   \n",
              "3                          NaN         NaN            8.0   \n",
              "4                         97.0         NaN            9.0   \n",
              "...                        ...         ...            ...   \n",
              "1432                       NaN        47.0           10.0   \n",
              "1433                       NaN         NaN           10.0   \n",
              "1434                      78.0        18.0            9.0   \n",
              "1435                       NaN        46.0            8.0   \n",
              "1436                      81.0        27.0            9.0   \n",
              "\n",
              "      FirstYearPersistence  \n",
              "0                        1  \n",
              "1                        1  \n",
              "2                        1  \n",
              "3                        1  \n",
              "4                        1  \n",
              "...                    ...  \n",
              "1432                     0  \n",
              "1433                     1  \n",
              "1434                     1  \n",
              "1435                     1  \n",
              "1436                     1  \n",
              "\n",
              "[1437 rows x 15 columns]"
            ],
            "text/html": [
              "\n",
              "  <div id=\"df-7022e179-fc15-45a1-8588-ec549d91580b\">\n",
              "    <div class=\"colab-df-container\">\n",
              "      <div>\n",
              "<style scoped>\n",
              "    .dataframe tbody tr th:only-of-type {\n",
              "        vertical-align: middle;\n",
              "    }\n",
              "\n",
              "    .dataframe tbody tr th {\n",
              "        vertical-align: top;\n",
              "    }\n",
              "\n",
              "    .dataframe thead th {\n",
              "        text-align: right;\n",
              "    }\n",
              "</style>\n",
              "<table border=\"1\" class=\"dataframe\">\n",
              "  <thead>\n",
              "    <tr style=\"text-align: right;\">\n",
              "      <th></th>\n",
              "      <th>First Term Gpa</th>\n",
              "      <th>Second Term Gpa</th>\n",
              "      <th>First Language</th>\n",
              "      <th>Funding</th>\n",
              "      <th>School</th>\n",
              "      <th>FastTrack</th>\n",
              "      <th>Coop</th>\n",
              "      <th>Residency</th>\n",
              "      <th>Gender</th>\n",
              "      <th>Previous Education</th>\n",
              "      <th>Age Group</th>\n",
              "      <th>High School Average Mark</th>\n",
              "      <th>Math Score</th>\n",
              "      <th>English Grade</th>\n",
              "      <th>FirstYearPersistence</th>\n",
              "    </tr>\n",
              "  </thead>\n",
              "  <tbody>\n",
              "    <tr>\n",
              "      <th>0</th>\n",
              "      <td>0.000000</td>\n",
              "      <td>0.000000</td>\n",
              "      <td>1.0</td>\n",
              "      <td>2</td>\n",
              "      <td>6</td>\n",
              "      <td>2</td>\n",
              "      <td>1</td>\n",
              "      <td>1</td>\n",
              "      <td>2</td>\n",
              "      <td>1.0</td>\n",
              "      <td>1.0</td>\n",
              "      <td>59.0</td>\n",
              "      <td>16.0</td>\n",
              "      <td>7.0</td>\n",
              "      <td>1</td>\n",
              "    </tr>\n",
              "    <tr>\n",
              "      <th>1</th>\n",
              "      <td>2.500000</td>\n",
              "      <td>2.000000</td>\n",
              "      <td>3.0</td>\n",
              "      <td>4</td>\n",
              "      <td>6</td>\n",
              "      <td>1</td>\n",
              "      <td>2</td>\n",
              "      <td>2</td>\n",
              "      <td>2</td>\n",
              "      <td>1.0</td>\n",
              "      <td>3.0</td>\n",
              "      <td>NaN</td>\n",
              "      <td>NaN</td>\n",
              "      <td>7.0</td>\n",
              "      <td>1</td>\n",
              "    </tr>\n",
              "    <tr>\n",
              "      <th>2</th>\n",
              "      <td>4.250000</td>\n",
              "      <td>3.923077</td>\n",
              "      <td>1.0</td>\n",
              "      <td>1</td>\n",
              "      <td>6</td>\n",
              "      <td>2</td>\n",
              "      <td>1</td>\n",
              "      <td>1</td>\n",
              "      <td>1</td>\n",
              "      <td>2.0</td>\n",
              "      <td>3.0</td>\n",
              "      <td>92.0</td>\n",
              "      <td>41.0</td>\n",
              "      <td>9.0</td>\n",
              "      <td>1</td>\n",
              "    </tr>\n",
              "    <tr>\n",
              "      <th>3</th>\n",
              "      <td>3.020833</td>\n",
              "      <td>2.321429</td>\n",
              "      <td>3.0</td>\n",
              "      <td>4</td>\n",
              "      <td>6</td>\n",
              "      <td>1</td>\n",
              "      <td>2</td>\n",
              "      <td>2</td>\n",
              "      <td>2</td>\n",
              "      <td>2.0</td>\n",
              "      <td>3.0</td>\n",
              "      <td>NaN</td>\n",
              "      <td>NaN</td>\n",
              "      <td>8.0</td>\n",
              "      <td>1</td>\n",
              "    </tr>\n",
              "    <tr>\n",
              "      <th>4</th>\n",
              "      <td>4.275000</td>\n",
              "      <td>4.326923</td>\n",
              "      <td>1.0</td>\n",
              "      <td>2</td>\n",
              "      <td>6</td>\n",
              "      <td>1</td>\n",
              "      <td>1</td>\n",
              "      <td>1</td>\n",
              "      <td>1</td>\n",
              "      <td>2.0</td>\n",
              "      <td>3.0</td>\n",
              "      <td>97.0</td>\n",
              "      <td>NaN</td>\n",
              "      <td>9.0</td>\n",
              "      <td>1</td>\n",
              "    </tr>\n",
              "    <tr>\n",
              "      <th>...</th>\n",
              "      <td>...</td>\n",
              "      <td>...</td>\n",
              "      <td>...</td>\n",
              "      <td>...</td>\n",
              "      <td>...</td>\n",
              "      <td>...</td>\n",
              "      <td>...</td>\n",
              "      <td>...</td>\n",
              "      <td>...</td>\n",
              "      <td>...</td>\n",
              "      <td>...</td>\n",
              "      <td>...</td>\n",
              "      <td>...</td>\n",
              "      <td>...</td>\n",
              "      <td>...</td>\n",
              "    </tr>\n",
              "    <tr>\n",
              "      <th>1432</th>\n",
              "      <td>1.413043</td>\n",
              "      <td>0.000000</td>\n",
              "      <td>NaN</td>\n",
              "      <td>4</td>\n",
              "      <td>6</td>\n",
              "      <td>2</td>\n",
              "      <td>2</td>\n",
              "      <td>2</td>\n",
              "      <td>2</td>\n",
              "      <td>1.0</td>\n",
              "      <td>1.0</td>\n",
              "      <td>NaN</td>\n",
              "      <td>47.0</td>\n",
              "      <td>10.0</td>\n",
              "      <td>0</td>\n",
              "    </tr>\n",
              "    <tr>\n",
              "      <th>1433</th>\n",
              "      <td>4.360000</td>\n",
              "      <td>4.074074</td>\n",
              "      <td>1.0</td>\n",
              "      <td>2</td>\n",
              "      <td>6</td>\n",
              "      <td>1</td>\n",
              "      <td>1</td>\n",
              "      <td>1</td>\n",
              "      <td>1</td>\n",
              "      <td>2.0</td>\n",
              "      <td>4.0</td>\n",
              "      <td>NaN</td>\n",
              "      <td>NaN</td>\n",
              "      <td>10.0</td>\n",
              "      <td>1</td>\n",
              "    </tr>\n",
              "    <tr>\n",
              "      <th>1434</th>\n",
              "      <td>2.020833</td>\n",
              "      <td>2.450000</td>\n",
              "      <td>1.0</td>\n",
              "      <td>2</td>\n",
              "      <td>6</td>\n",
              "      <td>2</td>\n",
              "      <td>1</td>\n",
              "      <td>1</td>\n",
              "      <td>2</td>\n",
              "      <td>1.0</td>\n",
              "      <td>1.0</td>\n",
              "      <td>78.0</td>\n",
              "      <td>18.0</td>\n",
              "      <td>9.0</td>\n",
              "      <td>1</td>\n",
              "    </tr>\n",
              "    <tr>\n",
              "      <th>1435</th>\n",
              "      <td>4.021739</td>\n",
              "      <td>4.357143</td>\n",
              "      <td>NaN</td>\n",
              "      <td>4</td>\n",
              "      <td>6</td>\n",
              "      <td>2</td>\n",
              "      <td>1</td>\n",
              "      <td>2</td>\n",
              "      <td>1</td>\n",
              "      <td>1.0</td>\n",
              "      <td>2.0</td>\n",
              "      <td>NaN</td>\n",
              "      <td>46.0</td>\n",
              "      <td>8.0</td>\n",
              "      <td>1</td>\n",
              "    </tr>\n",
              "    <tr>\n",
              "      <th>1436</th>\n",
              "      <td>2.133333</td>\n",
              "      <td>3.205882</td>\n",
              "      <td>1.0</td>\n",
              "      <td>2</td>\n",
              "      <td>6</td>\n",
              "      <td>2</td>\n",
              "      <td>2</td>\n",
              "      <td>1</td>\n",
              "      <td>1</td>\n",
              "      <td>1.0</td>\n",
              "      <td>1.0</td>\n",
              "      <td>81.0</td>\n",
              "      <td>27.0</td>\n",
              "      <td>9.0</td>\n",
              "      <td>1</td>\n",
              "    </tr>\n",
              "  </tbody>\n",
              "</table>\n",
              "<p>1437 rows × 15 columns</p>\n",
              "</div>\n",
              "      <button class=\"colab-df-convert\" onclick=\"convertToInteractive('df-7022e179-fc15-45a1-8588-ec549d91580b')\"\n",
              "              title=\"Convert this dataframe to an interactive table.\"\n",
              "              style=\"display:none;\">\n",
              "        \n",
              "  <svg xmlns=\"http://www.w3.org/2000/svg\" height=\"24px\"viewBox=\"0 0 24 24\"\n",
              "       width=\"24px\">\n",
              "    <path d=\"M0 0h24v24H0V0z\" fill=\"none\"/>\n",
              "    <path d=\"M18.56 5.44l.94 2.06.94-2.06 2.06-.94-2.06-.94-.94-2.06-.94 2.06-2.06.94zm-11 1L8.5 8.5l.94-2.06 2.06-.94-2.06-.94L8.5 2.5l-.94 2.06-2.06.94zm10 10l.94 2.06.94-2.06 2.06-.94-2.06-.94-.94-2.06-.94 2.06-2.06.94z\"/><path d=\"M17.41 7.96l-1.37-1.37c-.4-.4-.92-.59-1.43-.59-.52 0-1.04.2-1.43.59L10.3 9.45l-7.72 7.72c-.78.78-.78 2.05 0 2.83L4 21.41c.39.39.9.59 1.41.59.51 0 1.02-.2 1.41-.59l7.78-7.78 2.81-2.81c.8-.78.8-2.07 0-2.86zM5.41 20L4 18.59l7.72-7.72 1.47 1.35L5.41 20z\"/>\n",
              "  </svg>\n",
              "      </button>\n",
              "      \n",
              "  <style>\n",
              "    .colab-df-container {\n",
              "      display:flex;\n",
              "      flex-wrap:wrap;\n",
              "      gap: 12px;\n",
              "    }\n",
              "\n",
              "    .colab-df-convert {\n",
              "      background-color: #E8F0FE;\n",
              "      border: none;\n",
              "      border-radius: 50%;\n",
              "      cursor: pointer;\n",
              "      display: none;\n",
              "      fill: #1967D2;\n",
              "      height: 32px;\n",
              "      padding: 0 0 0 0;\n",
              "      width: 32px;\n",
              "    }\n",
              "\n",
              "    .colab-df-convert:hover {\n",
              "      background-color: #E2EBFA;\n",
              "      box-shadow: 0px 1px 2px rgba(60, 64, 67, 0.3), 0px 1px 3px 1px rgba(60, 64, 67, 0.15);\n",
              "      fill: #174EA6;\n",
              "    }\n",
              "\n",
              "    [theme=dark] .colab-df-convert {\n",
              "      background-color: #3B4455;\n",
              "      fill: #D2E3FC;\n",
              "    }\n",
              "\n",
              "    [theme=dark] .colab-df-convert:hover {\n",
              "      background-color: #434B5C;\n",
              "      box-shadow: 0px 1px 3px 1px rgba(0, 0, 0, 0.15);\n",
              "      filter: drop-shadow(0px 1px 2px rgba(0, 0, 0, 0.3));\n",
              "      fill: #FFFFFF;\n",
              "    }\n",
              "  </style>\n",
              "\n",
              "      <script>\n",
              "        const buttonEl =\n",
              "          document.querySelector('#df-7022e179-fc15-45a1-8588-ec549d91580b button.colab-df-convert');\n",
              "        buttonEl.style.display =\n",
              "          google.colab.kernel.accessAllowed ? 'block' : 'none';\n",
              "\n",
              "        async function convertToInteractive(key) {\n",
              "          const element = document.querySelector('#df-7022e179-fc15-45a1-8588-ec549d91580b');\n",
              "          const dataTable =\n",
              "            await google.colab.kernel.invokeFunction('convertToInteractive',\n",
              "                                                     [key], {});\n",
              "          if (!dataTable) return;\n",
              "\n",
              "          const docLinkHtml = 'Like what you see? Visit the ' +\n",
              "            '<a target=\"_blank\" href=https://colab.research.google.com/notebooks/data_table.ipynb>data table notebook</a>'\n",
              "            + ' to learn more about interactive tables.';\n",
              "          element.innerHTML = '';\n",
              "          dataTable['output_type'] = 'display_data';\n",
              "          await google.colab.output.renderOutput(dataTable, element);\n",
              "          const docLink = document.createElement('div');\n",
              "          docLink.innerHTML = docLinkHtml;\n",
              "          element.appendChild(docLink);\n",
              "        }\n",
              "      </script>\n",
              "    </div>\n",
              "  </div>\n",
              "  "
            ]
          },
          "metadata": {},
          "execution_count": 83
        }
      ]
    },
    {
      "cell_type": "markdown",
      "source": [
        "### Preprocessing"
      ],
      "metadata": {
        "id": "GAeh_gtXt1N8"
      }
    },
    {
      "cell_type": "code",
      "source": [
        "df.isna().sum()"
      ],
      "metadata": {
        "colab": {
          "base_uri": "https://localhost:8080/"
        },
        "id": "oViAbKTk_9Ew",
        "outputId": "dfcf4c6b-9c49-49e1-f564-10a00d9d55a0"
      },
      "execution_count": null,
      "outputs": [
        {
          "output_type": "execute_result",
          "data": {
            "text/plain": [
              "First Term Gpa               17\n",
              "Second Term Gpa             160\n",
              "First Language              111\n",
              " Funding                      0\n",
              "School                        0\n",
              "FastTrack                     0\n",
              "Coop                          0\n",
              " Residency                    0\n",
              "Gender                        0\n",
              "Previous Education            4\n",
              "Age Group                     4\n",
              "High School Average Mark    743\n",
              "Math Score                  462\n",
              "English Grade                45\n",
              "FirstYearPersistence          0\n",
              "dtype: int64"
            ]
          },
          "metadata": {},
          "execution_count": 84
        }
      ]
    },
    {
      "cell_type": "code",
      "source": [
        "df = df.fillna(df.mean())"
      ],
      "metadata": {
        "id": "KDctF4Tg_s3X"
      },
      "execution_count": null,
      "outputs": []
    },
    {
      "cell_type": "code",
      "source": [
        "import seaborn as sns\n",
        "import matplotlib.pyplot as plt"
      ],
      "metadata": {
        "id": "A0NuO7wYBbVK"
      },
      "execution_count": null,
      "outputs": []
    },
    {
      "cell_type": "code",
      "source": [
        "corr = df.corr()\n",
        "\n",
        "ax1 = sns.heatmap(corr, cbar=0, linewidths=2,vmax=1, vmin=0, square=True, cmap='Reds')\n",
        "plt.show()"
      ],
      "metadata": {
        "colab": {
          "base_uri": "https://localhost:8080/",
          "height": 386
        },
        "id": "msL8xFTCB-h2",
        "outputId": "6627e1f8-f032-4d1f-fb67-2cca7cd40f8f"
      },
      "execution_count": null,
      "outputs": [
        {
          "output_type": "display_data",
          "data": {
            "text/plain": [
              "<Figure size 432x288 with 1 Axes>"
            ],
            "image/png": "[encoded data removed]"
          },
          "metadata": {
            "needs_background": "light"
          }
        }
      ]
    },
    {
      "cell_type": "markdown",
      "source": [
        "We find that \"School\" and \"Gender\" has very low correlation with the target column, and hence we are dropping them."
      ],
      "metadata": {
        "id": "W3Z2zcaRsaWp"
      }
    },
    {
      "cell_type": "code",
      "source": [
        "df = df.drop(['School', 'Gender'], axis=1)\n",
        "df"
      ],
      "metadata": {
        "colab": {
          "base_uri": "https://localhost:8080/",
          "height": 540
        },
        "id": "PM0Gxmlvr4pm",
        "outputId": "f479ae56-b256-42d4-eaf3-ec11d7f3b441"
      },
      "execution_count": null,
      "outputs": [
        {
          "output_type": "execute_result",
          "data": {
            "text/plain": [
              "      First Term Gpa  Second Term Gpa  First Language   Funding  FastTrack  \\\n",
              "0           0.000000         0.000000        1.000000         2          2   \n",
              "1           2.500000         2.000000        3.000000         4          1   \n",
              "2           4.250000         3.923077        1.000000         1          2   \n",
              "3           3.020833         2.321429        3.000000         4          1   \n",
              "4           4.275000         4.326923        1.000000         2          1   \n",
              "...              ...              ...             ...       ...        ...   \n",
              "1432        1.413043         0.000000        1.911011         4          2   \n",
              "1433        4.360000         4.074074        1.000000         2          1   \n",
              "1434        2.020833         2.450000        1.000000         2          2   \n",
              "1435        4.021739         4.357143        1.911011         4          2   \n",
              "1436        2.133333         3.205882        1.000000         2          2   \n",
              "\n",
              "      Coop   Residency  Previous Education  Age Group  \\\n",
              "0        1           1                 1.0        1.0   \n",
              "1        2           2                 1.0        3.0   \n",
              "2        1           1                 2.0        3.0   \n",
              "3        2           2                 2.0        3.0   \n",
              "4        1           1                 2.0        3.0   \n",
              "...    ...         ...                 ...        ...   \n",
              "1432     2           2                 1.0        1.0   \n",
              "1433     1           1                 2.0        4.0   \n",
              "1434     1           1                 1.0        1.0   \n",
              "1435     1           2                 1.0        2.0   \n",
              "1436     2           1                 1.0        1.0   \n",
              "\n",
              "      High School Average Mark  Math Score  English Grade  \\\n",
              "0                    59.000000   16.000000            7.0   \n",
              "1                    77.152738   32.557949            7.0   \n",
              "2                    92.000000   41.000000            9.0   \n",
              "3                    77.152738   32.557949            8.0   \n",
              "4                    97.000000   32.557949            9.0   \n",
              "...                        ...         ...            ...   \n",
              "1432                 77.152738   47.000000           10.0   \n",
              "1433                 77.152738   32.557949           10.0   \n",
              "1434                 78.000000   18.000000            9.0   \n",
              "1435                 77.152738   46.000000            8.0   \n",
              "1436                 81.000000   27.000000            9.0   \n",
              "\n",
              "      FirstYearPersistence  \n",
              "0                        1  \n",
              "1                        1  \n",
              "2                        1  \n",
              "3                        1  \n",
              "4                        1  \n",
              "...                    ...  \n",
              "1432                     0  \n",
              "1433                     1  \n",
              "1434                     1  \n",
              "1435                     1  \n",
              "1436                     1  \n",
              "\n",
              "[1437 rows x 13 columns]"
            ],
            "text/html": [
              "\n",
              "  <div id=\"df-318ed24f-8cb0-483a-9213-23b8b1487fd2\">\n",
              "    <div class=\"colab-df-container\">\n",
              "      <div>\n",
              "<style scoped>\n",
              "    .dataframe tbody tr th:only-of-type {\n",
              "        vertical-align: middle;\n",
              "    }\n",
              "\n",
              "    .dataframe tbody tr th {\n",
              "        vertical-align: top;\n",
              "    }\n",
              "\n",
              "    .dataframe thead th {\n",
              "        text-align: right;\n",
              "    }\n",
              "</style>\n",
              "<table border=\"1\" class=\"dataframe\">\n",
              "  <thead>\n",
              "    <tr style=\"text-align: right;\">\n",
              "      <th></th>\n",
              "      <th>First Term Gpa</th>\n",
              "      <th>Second Term Gpa</th>\n",
              "      <th>First Language</th>\n",
              "      <th>Funding</th>\n",
              "      <th>FastTrack</th>\n",
              "      <th>Coop</th>\n",
              "      <th>Residency</th>\n",
              "      <th>Previous Education</th>\n",
              "      <th>Age Group</th>\n",
              "      <th>High School Average Mark</th>\n",
              "      <th>Math Score</th>\n",
              "      <th>English Grade</th>\n",
              "      <th>FirstYearPersistence</th>\n",
              "    </tr>\n",
              "  </thead>\n",
              "  <tbody>\n",
              "    <tr>\n",
              "      <th>0</th>\n",
              "      <td>0.000000</td>\n",
              "      <td>0.000000</td>\n",
              "      <td>1.000000</td>\n",
              "      <td>2</td>\n",
              "      <td>2</td>\n",
              "      <td>1</td>\n",
              "      <td>1</td>\n",
              "      <td>1.0</td>\n",
              "      <td>1.0</td>\n",
              "      <td>59.000000</td>\n",
              "      <td>16.000000</td>\n",
              "      <td>7.0</td>\n",
              "      <td>1</td>\n",
              "    </tr>\n",
              "    <tr>\n",
              "      <th>1</th>\n",
              "      <td>2.500000</td>\n",
              "      <td>2.000000</td>\n",
              "      <td>3.000000</td>\n",
              "      <td>4</td>\n",
              "      <td>1</td>\n",
              "      <td>2</td>\n",
              "      <td>2</td>\n",
              "      <td>1.0</td>\n",
              "      <td>3.0</td>\n",
              "      <td>77.152738</td>\n",
              "      <td>32.557949</td>\n",
              "      <td>7.0</td>\n",
              "      <td>1</td>\n",
              "    </tr>\n",
              "    <tr>\n",
              "      <th>2</th>\n",
              "      <td>4.250000</td>\n",
              "      <td>3.923077</td>\n",
              "      <td>1.000000</td>\n",
              "      <td>1</td>\n",
              "      <td>2</td>\n",
              "      <td>1</td>\n",
              "      <td>1</td>\n",
              "      <td>2.0</td>\n",
              "      <td>3.0</td>\n",
              "      <td>92.000000</td>\n",
              "      <td>41.000000</td>\n",
              "      <td>9.0</td>\n",
              "      <td>1</td>\n",
              "    </tr>\n",
              "    <tr>\n",
              "      <th>3</th>\n",
              "      <td>3.020833</td>\n",
              "      <td>2.321429</td>\n",
              "      <td>3.000000</td>\n",
              "      <td>4</td>\n",
              "      <td>1</td>\n",
              "      <td>2</td>\n",
              "      <td>2</td>\n",
              "      <td>2.0</td>\n",
              "      <td>3.0</td>\n",
              "      <td>77.152738</td>\n",
              "      <td>32.557949</td>\n",
              "      <td>8.0</td>\n",
              "      <td>1</td>\n",
              "    </tr>\n",
              "    <tr>\n",
              "      <th>4</th>\n",
              "      <td>4.275000</td>\n",
              "      <td>4.326923</td>\n",
              "      <td>1.000000</td>\n",
              "      <td>2</td>\n",
              "      <td>1</td>\n",
              "      <td>1</td>\n",
              "      <td>1</td>\n",
              "      <td>2.0</td>\n",
              "      <td>3.0</td>\n",
              "      <td>97.000000</td>\n",
              "      <td>32.557949</td>\n",
              "      <td>9.0</td>\n",
              "      <td>1</td>\n",
              "    </tr>\n",
              "    <tr>\n",
              "      <th>...</th>\n",
              "      <td>...</td>\n",
              "      <td>...</td>\n",
              "      <td>...</td>\n",
              "      <td>...</td>\n",
              "      <td>...</td>\n",
              "      <td>...</td>\n",
              "      <td>...</td>\n",
              "      <td>...</td>\n",
              "      <td>...</td>\n",
              "      <td>...</td>\n",
              "      <td>...</td>\n",
              "      <td>...</td>\n",
              "      <td>...</td>\n",
              "    </tr>\n",
              "    <tr>\n",
              "      <th>1432</th>\n",
              "      <td>1.413043</td>\n",
              "      <td>0.000000</td>\n",
              "      <td>1.911011</td>\n",
              "      <td>4</td>\n",
              "      <td>2</td>\n",
              "      <td>2</td>\n",
              "      <td>2</td>\n",
              "      <td>1.0</td>\n",
              "      <td>1.0</td>\n",
              "      <td>77.152738</td>\n",
              "      <td>47.000000</td>\n",
              "      <td>10.0</td>\n",
              "      <td>0</td>\n",
              "    </tr>\n",
              "    <tr>\n",
              "      <th>1433</th>\n",
              "      <td>4.360000</td>\n",
              "      <td>4.074074</td>\n",
              "      <td>1.000000</td>\n",
              "      <td>2</td>\n",
              "      <td>1</td>\n",
              "      <td>1</td>\n",
              "      <td>1</td>\n",
              "      <td>2.0</td>\n",
              "      <td>4.0</td>\n",
              "      <td>77.152738</td>\n",
              "      <td>32.557949</td>\n",
              "      <td>10.0</td>\n",
              "      <td>1</td>\n",
              "    </tr>\n",
              "    <tr>\n",
              "      <th>1434</th>\n",
              "      <td>2.020833</td>\n",
              "      <td>2.450000</td>\n",
              "      <td>1.000000</td>\n",
              "      <td>2</td>\n",
              "      <td>2</td>\n",
              "      <td>1</td>\n",
              "      <td>1</td>\n",
              "      <td>1.0</td>\n",
              "      <td>1.0</td>\n",
              "      <td>78.000000</td>\n",
              "      <td>18.000000</td>\n",
              "      <td>9.0</td>\n",
              "      <td>1</td>\n",
              "    </tr>\n",
              "    <tr>\n",
              "      <th>1435</th>\n",
              "      <td>4.021739</td>\n",
              "      <td>4.357143</td>\n",
              "      <td>1.911011</td>\n",
              "      <td>4</td>\n",
              "      <td>2</td>\n",
              "      <td>1</td>\n",
              "      <td>2</td>\n",
              "      <td>1.0</td>\n",
              "      <td>2.0</td>\n",
              "      <td>77.152738</td>\n",
              "      <td>46.000000</td>\n",
              "      <td>8.0</td>\n",
              "      <td>1</td>\n",
              "    </tr>\n",
              "    <tr>\n",
              "      <th>1436</th>\n",
              "      <td>2.133333</td>\n",
              "      <td>3.205882</td>\n",
              "      <td>1.000000</td>\n",
              "      <td>2</td>\n",
              "      <td>2</td>\n",
              "      <td>2</td>\n",
              "      <td>1</td>\n",
              "      <td>1.0</td>\n",
              "      <td>1.0</td>\n",
              "      <td>81.000000</td>\n",
              "      <td>27.000000</td>\n",
              "      <td>9.0</td>\n",
              "      <td>1</td>\n",
              "    </tr>\n",
              "  </tbody>\n",
              "</table>\n",
              "<p>1437 rows × 13 columns</p>\n",
              "</div>\n",
              "      <button class=\"colab-df-convert\" onclick=\"convertToInteractive('df-318ed24f-8cb0-483a-9213-23b8b1487fd2')\"\n",
              "              title=\"Convert this dataframe to an interactive table.\"\n",
              "              style=\"display:none;\">\n",
              "        \n",
              "  <svg xmlns=\"http://www.w3.org/2000/svg\" height=\"24px\"viewBox=\"0 0 24 24\"\n",
              "       width=\"24px\">\n",
              "    <path d=\"M0 0h24v24H0V0z\" fill=\"none\"/>\n",
              "    <path d=\"M18.56 5.44l.94 2.06.94-2.06 2.06-.94-2.06-.94-.94-2.06-.94 2.06-2.06.94zm-11 1L8.5 8.5l.94-2.06 2.06-.94-2.06-.94L8.5 2.5l-.94 2.06-2.06.94zm10 10l.94 2.06.94-2.06 2.06-.94-2.06-.94-.94-2.06-.94 2.06-2.06.94z\"/><path d=\"M17.41 7.96l-1.37-1.37c-.4-.4-.92-.59-1.43-.59-.52 0-1.04.2-1.43.59L10.3 9.45l-7.72 7.72c-.78.78-.78 2.05 0 2.83L4 21.41c.39.39.9.59 1.41.59.51 0 1.02-.2 1.41-.59l7.78-7.78 2.81-2.81c.8-.78.8-2.07 0-2.86zM5.41 20L4 18.59l7.72-7.72 1.47 1.35L5.41 20z\"/>\n",
              "  </svg>\n",
              "      </button>\n",
              "      \n",
              "  <style>\n",
              "    .colab-df-container {\n",
              "      display:flex;\n",
              "      flex-wrap:wrap;\n",
              "      gap: 12px;\n",
              "    }\n",
              "\n",
              "    .colab-df-convert {\n",
              "      background-color: #E8F0FE;\n",
              "      border: none;\n",
              "      border-radius: 50%;\n",
              "      cursor: pointer;\n",
              "      display: none;\n",
              "      fill: #1967D2;\n",
              "      height: 32px;\n",
              "      padding: 0 0 0 0;\n",
              "      width: 32px;\n",
              "    }\n",
              "\n",
              "    .colab-df-convert:hover {\n",
              "      background-color: #E2EBFA;\n",
              "      box-shadow: 0px 1px 2px rgba(60, 64, 67, 0.3), 0px 1px 3px 1px rgba(60, 64, 67, 0.15);\n",
              "      fill: #174EA6;\n",
              "    }\n",
              "\n",
              "    [theme=dark] .colab-df-convert {\n",
              "      background-color: #3B4455;\n",
              "      fill: #D2E3FC;\n",
              "    }\n",
              "\n",
              "    [theme=dark] .colab-df-convert:hover {\n",
              "      background-color: #434B5C;\n",
              "      box-shadow: 0px 1px 3px 1px rgba(0, 0, 0, 0.15);\n",
              "      filter: drop-shadow(0px 1px 2px rgba(0, 0, 0, 0.3));\n",
              "      fill: #FFFFFF;\n",
              "    }\n",
              "  </style>\n",
              "\n",
              "      <script>\n",
              "        const buttonEl =\n",
              "          document.querySelector('#df-318ed24f-8cb0-483a-9213-23b8b1487fd2 button.colab-df-convert');\n",
              "        buttonEl.style.display =\n",
              "          google.colab.kernel.accessAllowed ? 'block' : 'none';\n",
              "\n",
              "        async function convertToInteractive(key) {\n",
              "          const element = document.querySelector('#df-318ed24f-8cb0-483a-9213-23b8b1487fd2');\n",
              "          const dataTable =\n",
              "            await google.colab.kernel.invokeFunction('convertToInteractive',\n",
              "                                                     [key], {});\n",
              "          if (!dataTable) return;\n",
              "\n",
              "          const docLinkHtml = 'Like what you see? Visit the ' +\n",
              "            '<a target=\"_blank\" href=https://colab.research.google.com/notebooks/data_table.ipynb>data table notebook</a>'\n",
              "            + ' to learn more about interactive tables.';\n",
              "          element.innerHTML = '';\n",
              "          dataTable['output_type'] = 'display_data';\n",
              "          await google.colab.output.renderOutput(dataTable, element);\n",
              "          const docLink = document.createElement('div');\n",
              "          docLink.innerHTML = docLinkHtml;\n",
              "          element.appendChild(docLink);\n",
              "        }\n",
              "      </script>\n",
              "    </div>\n",
              "  </div>\n",
              "  "
            ]
          },
          "metadata": {},
          "execution_count": 88
        }
      ]
    },
    {
      "cell_type": "code",
      "source": [
        "X, y = df.drop('FirstYearPersistence', axis=1), df['FirstYearPersistence']"
      ],
      "metadata": {
        "id": "9dHxTSQRFOFu"
      },
      "execution_count": null,
      "outputs": []
    },
    {
      "cell_type": "code",
      "source": [
        "X.head(3)"
      ],
      "metadata": {
        "colab": {
          "base_uri": "https://localhost:8080/",
          "height": 222
        },
        "id": "sCjyLAtnrwi-",
        "outputId": "55b1323e-8b06-4c4f-f70f-e8effed975ec"
      },
      "execution_count": null,
      "outputs": [
        {
          "output_type": "execute_result",
          "data": {
            "text/plain": [
              "   First Term Gpa  Second Term Gpa  First Language   Funding  FastTrack  Coop  \\\n",
              "0            0.00         0.000000             1.0         2          2     1   \n",
              "1            2.50         2.000000             3.0         4          1     2   \n",
              "2            4.25         3.923077             1.0         1          2     1   \n",
              "\n",
              "    Residency  Previous Education  Age Group  High School Average Mark  \\\n",
              "0           1                 1.0        1.0                 59.000000   \n",
              "1           2                 1.0        3.0                 77.152738   \n",
              "2           1                 2.0        3.0                 92.000000   \n",
              "\n",
              "   Math Score  English Grade  \n",
              "0   16.000000            7.0  \n",
              "1   32.557949            7.0  \n",
              "2   41.000000            9.0  "
            ],
            "text/html": [
              "\n",
              "  <div id=\"df-4f5a374e-d784-4317-a520-cd6df62ebeac\">\n",
              "    <div class=\"colab-df-container\">\n",
              "      <div>\n",
              "<style scoped>\n",
              "    .dataframe tbody tr th:only-of-type {\n",
              "        vertical-align: middle;\n",
              "    }\n",
              "\n",
              "    .dataframe tbody tr th {\n",
              "        vertical-align: top;\n",
              "    }\n",
              "\n",
              "    .dataframe thead th {\n",
              "        text-align: right;\n",
              "    }\n",
              "</style>\n",
              "<table border=\"1\" class=\"dataframe\">\n",
              "  <thead>\n",
              "    <tr style=\"text-align: right;\">\n",
              "      <th></th>\n",
              "      <th>First Term Gpa</th>\n",
              "      <th>Second Term Gpa</th>\n",
              "      <th>First Language</th>\n",
              "      <th>Funding</th>\n",
              "      <th>FastTrack</th>\n",
              "      <th>Coop</th>\n",
              "      <th>Residency</th>\n",
              "      <th>Previous Education</th>\n",
              "      <th>Age Group</th>\n",
              "      <th>High School Average Mark</th>\n",
              "      <th>Math Score</th>\n",
              "      <th>English Grade</th>\n",
              "    </tr>\n",
              "  </thead>\n",
              "  <tbody>\n",
              "    <tr>\n",
              "      <th>0</th>\n",
              "      <td>0.00</td>\n",
              "      <td>0.000000</td>\n",
              "      <td>1.0</td>\n",
              "      <td>2</td>\n",
              "      <td>2</td>\n",
              "      <td>1</td>\n",
              "      <td>1</td>\n",
              "      <td>1.0</td>\n",
              "      <td>1.0</td>\n",
              "      <td>59.000000</td>\n",
              "      <td>16.000000</td>\n",
              "      <td>7.0</td>\n",
              "    </tr>\n",
              "    <tr>\n",
              "      <th>1</th>\n",
              "      <td>2.50</td>\n",
              "      <td>2.000000</td>\n",
              "      <td>3.0</td>\n",
              "      <td>4</td>\n",
              "      <td>1</td>\n",
              "      <td>2</td>\n",
              "      <td>2</td>\n",
              "      <td>1.0</td>\n",
              "      <td>3.0</td>\n",
              "      <td>77.152738</td>\n",
              "      <td>32.557949</td>\n",
              "      <td>7.0</td>\n",
              "    </tr>\n",
              "    <tr>\n",
              "      <th>2</th>\n",
              "      <td>4.25</td>\n",
              "      <td>3.923077</td>\n",
              "      <td>1.0</td>\n",
              "      <td>1</td>\n",
              "      <td>2</td>\n",
              "      <td>1</td>\n",
              "      <td>1</td>\n",
              "      <td>2.0</td>\n",
              "      <td>3.0</td>\n",
              "      <td>92.000000</td>\n",
              "      <td>41.000000</td>\n",
              "      <td>9.0</td>\n",
              "    </tr>\n",
              "  </tbody>\n",
              "</table>\n",
              "</div>\n",
              "      <button class=\"colab-df-convert\" onclick=\"convertToInteractive('df-4f5a374e-d784-4317-a520-cd6df62ebeac')\"\n",
              "              title=\"Convert this dataframe to an interactive table.\"\n",
              "              style=\"display:none;\">\n",
              "        \n",
              "  <svg xmlns=\"http://www.w3.org/2000/svg\" height=\"24px\"viewBox=\"0 0 24 24\"\n",
              "       width=\"24px\">\n",
              "    <path d=\"M0 0h24v24H0V0z\" fill=\"none\"/>\n",
              "    <path d=\"M18.56 5.44l.94 2.06.94-2.06 2.06-.94-2.06-.94-.94-2.06-.94 2.06-2.06.94zm-11 1L8.5 8.5l.94-2.06 2.06-.94-2.06-.94L8.5 2.5l-.94 2.06-2.06.94zm10 10l.94 2.06.94-2.06 2.06-.94-2.06-.94-.94-2.06-.94 2.06-2.06.94z\"/><path d=\"M17.41 7.96l-1.37-1.37c-.4-.4-.92-.59-1.43-.59-.52 0-1.04.2-1.43.59L10.3 9.45l-7.72 7.72c-.78.78-.78 2.05 0 2.83L4 21.41c.39.39.9.59 1.41.59.51 0 1.02-.2 1.41-.59l7.78-7.78 2.81-2.81c.8-.78.8-2.07 0-2.86zM5.41 20L4 18.59l7.72-7.72 1.47 1.35L5.41 20z\"/>\n",
              "  </svg>\n",
              "      </button>\n",
              "      \n",
              "  <style>\n",
              "    .colab-df-container {\n",
              "      display:flex;\n",
              "      flex-wrap:wrap;\n",
              "      gap: 12px;\n",
              "    }\n",
              "\n",
              "    .colab-df-convert {\n",
              "      background-color: #E8F0FE;\n",
              "      border: none;\n",
              "      border-radius: 50%;\n",
              "      cursor: pointer;\n",
              "      display: none;\n",
              "      fill: #1967D2;\n",
              "      height: 32px;\n",
              "      padding: 0 0 0 0;\n",
              "      width: 32px;\n",
              "    }\n",
              "\n",
              "    .colab-df-convert:hover {\n",
              "      background-color: #E2EBFA;\n",
              "      box-shadow: 0px 1px 2px rgba(60, 64, 67, 0.3), 0px 1px 3px 1px rgba(60, 64, 67, 0.15);\n",
              "      fill: #174EA6;\n",
              "    }\n",
              "\n",
              "    [theme=dark] .colab-df-convert {\n",
              "      background-color: #3B4455;\n",
              "      fill: #D2E3FC;\n",
              "    }\n",
              "\n",
              "    [theme=dark] .colab-df-convert:hover {\n",
              "      background-color: #434B5C;\n",
              "      box-shadow: 0px 1px 3px 1px rgba(0, 0, 0, 0.15);\n",
              "      filter: drop-shadow(0px 1px 2px rgba(0, 0, 0, 0.3));\n",
              "      fill: #FFFFFF;\n",
              "    }\n",
              "  </style>\n",
              "\n",
              "      <script>\n",
              "        const buttonEl =\n",
              "          document.querySelector('#df-4f5a374e-d784-4317-a520-cd6df62ebeac button.colab-df-convert');\n",
              "        buttonEl.style.display =\n",
              "          google.colab.kernel.accessAllowed ? 'block' : 'none';\n",
              "\n",
              "        async function convertToInteractive(key) {\n",
              "          const element = document.querySelector('#df-4f5a374e-d784-4317-a520-cd6df62ebeac');\n",
              "          const dataTable =\n",
              "            await google.colab.kernel.invokeFunction('convertToInteractive',\n",
              "                                                     [key], {});\n",
              "          if (!dataTable) return;\n",
              "\n",
              "          const docLinkHtml = 'Like what you see? Visit the ' +\n",
              "            '<a target=\"_blank\" href=https://colab.research.google.com/notebooks/data_table.ipynb>data table notebook</a>'\n",
              "            + ' to learn more about interactive tables.';\n",
              "          element.innerHTML = '';\n",
              "          dataTable['output_type'] = 'display_data';\n",
              "          await google.colab.output.renderOutput(dataTable, element);\n",
              "          const docLink = document.createElement('div');\n",
              "          docLink.innerHTML = docLinkHtml;\n",
              "          element.appendChild(docLink);\n",
              "        }\n",
              "      </script>\n",
              "    </div>\n",
              "  </div>\n",
              "  "
            ]
          },
          "metadata": {},
          "execution_count": 90
        }
      ]
    },
    {
      "cell_type": "code",
      "source": [
        "y.head(3)"
      ],
      "metadata": {
        "colab": {
          "base_uri": "https://localhost:8080/"
        },
        "id": "H9a-BV1YsMvZ",
        "outputId": "b5ebb133-b474-45f9-e033-302ba097ee9b"
      },
      "execution_count": null,
      "outputs": [
        {
          "output_type": "execute_result",
          "data": {
            "text/plain": [
              "0    1\n",
              "1    1\n",
              "2    1\n",
              "Name: FirstYearPersistence, dtype: int64"
            ]
          },
          "metadata": {},
          "execution_count": 91
        }
      ]
    },
    {
      "cell_type": "code",
      "source": [
        "y.value_counts()"
      ],
      "metadata": {
        "colab": {
          "base_uri": "https://localhost:8080/"
        },
        "id": "BAI9vXcXsS-8",
        "outputId": "ff408993-7910-460d-b755-ba58b6b5111b"
      },
      "execution_count": null,
      "outputs": [
        {
          "output_type": "execute_result",
          "data": {
            "text/plain": [
              "1    1138\n",
              "0     299\n",
              "Name: FirstYearPersistence, dtype: int64"
            ]
          },
          "metadata": {},
          "execution_count": 92
        }
      ]
    },
    {
      "cell_type": "code",
      "source": [
        "from imblearn.over_sampling import SMOTE\n",
        "\n",
        "sm = SMOTE(random_state=42)\n",
        "X, y = sm.fit_resample(X, y)\n",
        "y.value_counts()"
      ],
      "metadata": {
        "colab": {
          "base_uri": "https://localhost:8080/"
        },
        "id": "WNr0FMkP2xr-",
        "outputId": "48cce4b0-4174-4a06-e654-520253be00a3"
      },
      "execution_count": null,
      "outputs": [
        {
          "output_type": "execute_result",
          "data": {
            "text/plain": [
              "1    1138\n",
              "0    1138\n",
              "Name: FirstYearPersistence, dtype: int64"
            ]
          },
          "metadata": {},
          "execution_count": 93
        }
      ]
    },
    {
      "cell_type": "markdown",
      "source": [
        "### Splitting to training and testing"
      ],
      "metadata": {
        "id": "Irahct1qt8kK"
      }
    },
    {
      "cell_type": "code",
      "source": [
        "X_train, X_test, y_train, y_test = train_test_split(X, y, test_size=0.05)\n",
        "X_train.shape, X_test.shape, y_train.shape, y_test.shape"
      ],
      "metadata": {
        "colab": {
          "base_uri": "https://localhost:8080/"
        },
        "id": "r04Ap5HetSPr",
        "outputId": "a52fda70-7967-42d5-91c1-ec08a797ccc5"
      },
      "execution_count": null,
      "outputs": [
        {
          "output_type": "execute_result",
          "data": {
            "text/plain": [
              "((2162, 12), (114, 12), (2162,), (114,))"
            ]
          },
          "metadata": {},
          "execution_count": 94
        }
      ]
    },
    {
      "cell_type": "code",
      "source": [
        "y_train.head(3)"
      ],
      "metadata": {
        "colab": {
          "base_uri": "https://localhost:8080/"
        },
        "id": "6N__i5b0dxI7",
        "outputId": "986a6eab-aca4-496a-ef93-401f205f5095"
      },
      "execution_count": null,
      "outputs": [
        {
          "output_type": "execute_result",
          "data": {
            "text/plain": [
              "1229    1\n",
              "78      1\n",
              "2151    0\n",
              "Name: FirstYearPersistence, dtype: int64"
            ]
          },
          "metadata": {},
          "execution_count": 95
        }
      ]
    },
    {
      "cell_type": "code",
      "source": [
        "X_train.head(3)"
      ],
      "metadata": {
        "colab": {
          "base_uri": "https://localhost:8080/",
          "height": 205
        },
        "id": "idxTnTyid3Rr",
        "outputId": "68021b23-542e-41e2-b2b7-e5a01937dc53"
      },
      "execution_count": null,
      "outputs": [
        {
          "output_type": "execute_result",
          "data": {
            "text/plain": [
              "      First Term Gpa  Second Term Gpa  First Language   Funding  FastTrack  \\\n",
              "1229        4.153846         4.021739             3.0         4          1   \n",
              "78          3.521739         3.288462             3.0         4          1   \n",
              "2151        0.000000         0.920678             1.0         2          2   \n",
              "\n",
              "      Coop   Residency  Previous Education  Age Group  \\\n",
              "1229     2           2            2.000000        3.0   \n",
              "78       2           2            1.000000        3.0   \n",
              "2151     2           1            0.326461        2.0   \n",
              "\n",
              "      High School Average Mark  Math Score  English Grade  \n",
              "1229                 77.152738   48.000000            8.0  \n",
              "78                   77.152738   32.557949            7.0  \n",
              "2151                 66.326461   26.673539            9.0  "
            ],
            "text/html": [
              "\n",
              "  <div id=\"df-80a10f8e-9273-4184-a2fa-118231371f63\">\n",
              "    <div class=\"colab-df-container\">\n",
              "      <div>\n",
              "<style scoped>\n",
              "    .dataframe tbody tr th:only-of-type {\n",
              "        vertical-align: middle;\n",
              "    }\n",
              "\n",
              "    .dataframe tbody tr th {\n",
              "        vertical-align: top;\n",
              "    }\n",
              "\n",
              "    .dataframe thead th {\n",
              "        text-align: right;\n",
              "    }\n",
              "</style>\n",
              "<table border=\"1\" class=\"dataframe\">\n",
              "  <thead>\n",
              "    <tr style=\"text-align: right;\">\n",
              "      <th></th>\n",
              "      <th>First Term Gpa</th>\n",
              "      <th>Second Term Gpa</th>\n",
              "      <th>First Language</th>\n",
              "      <th>Funding</th>\n",
              "      <th>FastTrack</th>\n",
              "      <th>Coop</th>\n",
              "      <th>Residency</th>\n",
              "      <th>Previous Education</th>\n",
              "      <th>Age Group</th>\n",
              "      <th>High School Average Mark</th>\n",
              "      <th>Math Score</th>\n",
              "      <th>English Grade</th>\n",
              "    </tr>\n",
              "  </thead>\n",
              "  <tbody>\n",
              "    <tr>\n",
              "      <th>1229</th>\n",
              "      <td>4.153846</td>\n",
              "      <td>4.021739</td>\n",
              "      <td>3.0</td>\n",
              "      <td>4</td>\n",
              "      <td>1</td>\n",
              "      <td>2</td>\n",
              "      <td>2</td>\n",
              "      <td>2.000000</td>\n",
              "      <td>3.0</td>\n",
              "      <td>77.152738</td>\n",
              "      <td>48.000000</td>\n",
              "      <td>8.0</td>\n",
              "    </tr>\n",
              "    <tr>\n",
              "      <th>78</th>\n",
              "      <td>3.521739</td>\n",
              "      <td>3.288462</td>\n",
              "      <td>3.0</td>\n",
              "      <td>4</td>\n",
              "      <td>1</td>\n",
              "      <td>2</td>\n",
              "      <td>2</td>\n",
              "      <td>1.000000</td>\n",
              "      <td>3.0</td>\n",
              "      <td>77.152738</td>\n",
              "      <td>32.557949</td>\n",
              "      <td>7.0</td>\n",
              "    </tr>\n",
              "    <tr>\n",
              "      <th>2151</th>\n",
              "      <td>0.000000</td>\n",
              "      <td>0.920678</td>\n",
              "      <td>1.0</td>\n",
              "      <td>2</td>\n",
              "      <td>2</td>\n",
              "      <td>2</td>\n",
              "      <td>1</td>\n",
              "      <td>0.326461</td>\n",
              "      <td>2.0</td>\n",
              "      <td>66.326461</td>\n",
              "      <td>26.673539</td>\n",
              "      <td>9.0</td>\n",
              "    </tr>\n",
              "  </tbody>\n",
              "</table>\n",
              "</div>\n",
              "      <button class=\"colab-df-convert\" onclick=\"convertToInteractive('df-80a10f8e-9273-4184-a2fa-118231371f63')\"\n",
              "              title=\"Convert this dataframe to an interactive table.\"\n",
              "              style=\"display:none;\">\n",
              "        \n",
              "  <svg xmlns=\"http://www.w3.org/2000/svg\" height=\"24px\"viewBox=\"0 0 24 24\"\n",
              "       width=\"24px\">\n",
              "    <path d=\"M0 0h24v24H0V0z\" fill=\"none\"/>\n",
              "    <path d=\"M18.56 5.44l.94 2.06.94-2.06 2.06-.94-2.06-.94-.94-2.06-.94 2.06-2.06.94zm-11 1L8.5 8.5l.94-2.06 2.06-.94-2.06-.94L8.5 2.5l-.94 2.06-2.06.94zm10 10l.94 2.06.94-2.06 2.06-.94-2.06-.94-.94-2.06-.94 2.06-2.06.94z\"/><path d=\"M17.41 7.96l-1.37-1.37c-.4-.4-.92-.59-1.43-.59-.52 0-1.04.2-1.43.59L10.3 9.45l-7.72 7.72c-.78.78-.78 2.05 0 2.83L4 21.41c.39.39.9.59 1.41.59.51 0 1.02-.2 1.41-.59l7.78-7.78 2.81-2.81c.8-.78.8-2.07 0-2.86zM5.41 20L4 18.59l7.72-7.72 1.47 1.35L5.41 20z\"/>\n",
              "  </svg>\n",
              "      </button>\n",
              "      \n",
              "  <style>\n",
              "    .colab-df-container {\n",
              "      display:flex;\n",
              "      flex-wrap:wrap;\n",
              "      gap: 12px;\n",
              "    }\n",
              "\n",
              "    .colab-df-convert {\n",
              "      background-color: #E8F0FE;\n",
              "      border: none;\n",
              "      border-radius: 50%;\n",
              "      cursor: pointer;\n",
              "      display: none;\n",
              "      fill: #1967D2;\n",
              "      height: 32px;\n",
              "      padding: 0 0 0 0;\n",
              "      width: 32px;\n",
              "    }\n",
              "\n",
              "    .colab-df-convert:hover {\n",
              "      background-color: #E2EBFA;\n",
              "      box-shadow: 0px 1px 2px rgba(60, 64, 67, 0.3), 0px 1px 3px 1px rgba(60, 64, 67, 0.15);\n",
              "      fill: #174EA6;\n",
              "    }\n",
              "\n",
              "    [theme=dark] .colab-df-convert {\n",
              "      background-color: #3B4455;\n",
              "      fill: #D2E3FC;\n",
              "    }\n",
              "\n",
              "    [theme=dark] .colab-df-convert:hover {\n",
              "      background-color: #434B5C;\n",
              "      box-shadow: 0px 1px 3px 1px rgba(0, 0, 0, 0.15);\n",
              "      filter: drop-shadow(0px 1px 2px rgba(0, 0, 0, 0.3));\n",
              "      fill: #FFFFFF;\n",
              "    }\n",
              "  </style>\n",
              "\n",
              "      <script>\n",
              "        const buttonEl =\n",
              "          document.querySelector('#df-80a10f8e-9273-4184-a2fa-118231371f63 button.colab-df-convert');\n",
              "        buttonEl.style.display =\n",
              "          google.colab.kernel.accessAllowed ? 'block' : 'none';\n",
              "\n",
              "        async function convertToInteractive(key) {\n",
              "          const element = document.querySelector('#df-80a10f8e-9273-4184-a2fa-118231371f63');\n",
              "          const dataTable =\n",
              "            await google.colab.kernel.invokeFunction('convertToInteractive',\n",
              "                                                     [key], {});\n",
              "          if (!dataTable) return;\n",
              "\n",
              "          const docLinkHtml = 'Like what you see? Visit the ' +\n",
              "            '<a target=\"_blank\" href=https://colab.research.google.com/notebooks/data_table.ipynb>data table notebook</a>'\n",
              "            + ' to learn more about interactive tables.';\n",
              "          element.innerHTML = '';\n",
              "          dataTable['output_type'] = 'display_data';\n",
              "          await google.colab.output.renderOutput(dataTable, element);\n",
              "          const docLink = document.createElement('div');\n",
              "          docLink.innerHTML = docLinkHtml;\n",
              "          element.appendChild(docLink);\n",
              "        }\n",
              "      </script>\n",
              "    </div>\n",
              "  </div>\n",
              "  "
            ]
          },
          "metadata": {},
          "execution_count": 96
        }
      ]
    },
    {
      "cell_type": "code",
      "source": [
        "np.unique(y_train)"
      ],
      "metadata": {
        "colab": {
          "base_uri": "https://localhost:8080/"
        },
        "id": "0EH-J-29kNvT",
        "outputId": "457f6aa8-30b0-4e71-d8b0-75a03fcb3a80"
      },
      "execution_count": null,
      "outputs": [
        {
          "output_type": "execute_result",
          "data": {
            "text/plain": [
              "array([0, 1])"
            ]
          },
          "metadata": {},
          "execution_count": 97
        }
      ]
    },
    {
      "cell_type": "markdown",
      "source": [
        "### Building model"
      ],
      "metadata": {
        "id": "xpLHYsyjuCSK"
      }
    },
    {
      "cell_type": "code",
      "source": [
        "# keras.backend.clear_session()\n",
        "# np.random.seed(42)\n",
        "# tf.random.set_seed(42)\n",
        "\n",
        "# def build_model(n_hidden=1, n_neurons=30, learning_rate=3e-3):\n",
        "#   model = keras.models.Sequential()\n",
        "#   model.add(layers.Conv2D(32, (3, 3), activation='relu', input_shape=(32, 32, 3)))\n",
        "#   model.add(layers.MaxPooling2D((2, 2)))\n",
        "#   model.add(layers.Conv2D(64, (3, 3), activation='relu'))\n",
        "#   model.add(layers.MaxPooling2D((2, 2)))\n",
        "#   model.add(layers.Conv2D(64, (3, 3), activation='relu'))\n",
        "#   # ANN.add(layers.Conv2D(32, (3, 3), activation='relu', input_shape=(3072,)))\n",
        "#   model.add(layers.Flatten())\n",
        "#   for _ in range(n_hidden):\n",
        "#     model.add(layers.Dense(n_neurons, activation='relu'))\n",
        "#   model.add(keras.layers.Dense(10))  # 10 neurons in the output layer.\n",
        "#   print(model.summary())\n",
        "#   # optimizer = keras.optimizers.adam(lr=learning_rate)\n",
        "#   model.compile(loss=\"mse\", optimizer='adam', metrics=['accuracy'])\n",
        "#   return model\n",
        "\n",
        "def build_model(n_hidden=10, n_neurons=100, learning_rate=3e-3):\n",
        "  model = Sequential()\n",
        "  model.add(Dense(12, input_shape=(12,)))\n",
        "  for _ in range(n_hidden):\n",
        "      model.add(Dense(n_neurons, activation=\"relu\"))\n",
        "  model.add(Dense(2, activation=\"softmax\"))\n",
        "  model.compile(loss=\"sparse_categorical_crossentropy\",\n",
        "                optimizer=tf.keras.optimizers.Adam(learning_rate=0.0001),\n",
        "                metrics=[\"accuracy\"])\n",
        "  return model\n",
        "\n",
        "model = build_model()\n",
        "# print(model.summary())\n",
        "\n",
        "hist = model.fit(X_train, y_train, epochs=20, batch_size=2)"
      ],
      "metadata": {
        "colab": {
          "base_uri": "https://localhost:8080/"
        },
        "id": "onJ1o8sctoSq",
        "outputId": "8f8d9c45-4da7-45db-8e10-765821289c0a"
      },
      "execution_count": null,
      "outputs": [
        {
          "output_type": "stream",
          "name": "stdout",
          "text": [
            "Epoch 1/20\n",
            "1081/1081 [==============================] - 30s 27ms/step - loss: 0.6942 - accuracy: 0.5180\n",
            "Epoch 2/20\n",
            "1081/1081 [==============================] - 50s 46ms/step - loss: 0.6860 - accuracy: 0.5527\n",
            "Epoch 3/20\n",
            "1081/1081 [==============================] - 32s 30ms/step - loss: 0.6760 - accuracy: 0.5814\n",
            "Epoch 4/20\n",
            "1081/1081 [==============================] - 27s 25ms/step - loss: 0.6276 - accuracy: 0.6605\n",
            "Epoch 5/20\n",
            "1081/1081 [==============================] - 29s 26ms/step - loss: 0.5704 - accuracy: 0.7081\n",
            "Epoch 6/20\n",
            "1081/1081 [==============================] - 37s 35ms/step - loss: 0.5319 - accuracy: 0.7377\n",
            "Epoch 7/20\n",
            "1081/1081 [==============================] - 29s 27ms/step - loss: 0.5098 - accuracy: 0.7507\n",
            "Epoch 8/20\n",
            "1081/1081 [==============================] - 22s 20ms/step - loss: 0.5187 - accuracy: 0.7549\n",
            "Epoch 9/20\n",
            "1081/1081 [==============================] - 30s 28ms/step - loss: 0.4974 - accuracy: 0.7660\n",
            "Epoch 10/20\n",
            "1081/1081 [==============================] - 43s 40ms/step - loss: 0.4910 - accuracy: 0.7627\n",
            "Epoch 11/20\n",
            "1081/1081 [==============================] - 35s 32ms/step - loss: 0.4951 - accuracy: 0.7706\n",
            "Epoch 12/20\n",
            "1081/1081 [==============================] - 39s 36ms/step - loss: 0.4901 - accuracy: 0.7683\n",
            "Epoch 13/20\n",
            "1081/1081 [==============================] - 41s 38ms/step - loss: 0.4903 - accuracy: 0.7692\n",
            "Epoch 14/20\n",
            "1081/1081 [==============================] - 30s 28ms/step - loss: 0.4878 - accuracy: 0.7747\n",
            "Epoch 15/20\n",
            "1081/1081 [==============================] - 23s 21ms/step - loss: 0.4821 - accuracy: 0.7724\n",
            "Epoch 16/20\n",
            "1081/1081 [==============================] - 52s 48ms/step - loss: 0.4805 - accuracy: 0.7803\n",
            "Epoch 17/20\n",
            "1081/1081 [==============================] - 51s 47ms/step - loss: 0.4826 - accuracy: 0.7710\n",
            "Epoch 18/20\n",
            "1081/1081 [==============================] - 63s 58ms/step - loss: 0.4756 - accuracy: 0.7771\n",
            "Epoch 19/20\n",
            "1081/1081 [==============================] - 30s 28ms/step - loss: 0.4771 - accuracy: 0.7803\n",
            "Epoch 20/20\n",
            "1081/1081 [==============================] - 67s 62ms/step - loss: 0.4731 - accuracy: 0.7757\n"
          ]
        }
      ]
    },
    {
      "cell_type": "code",
      "source": [
        "plt.plot(hist.history[\"loss\"])\n",
        "plt.plot(hist.history[\"val_loss\"])\n",
        "plt.title(\"model loss\")\n",
        "plt.ylabel(\"loss\")\n",
        "plt.xlabel(\"epoch\")\n",
        "plt.legend([\"train\", \"val\"], loc=\"upper left\")\n",
        "plt.show()"
      ],
      "metadata": {
        "colab": {
          "base_uri": "https://localhost:8080/",
          "height": 492
        },
        "id": "n_8Dv_YjmhUd",
        "outputId": "baecf115-d846-4d61-cdb4-eebee874d08d"
      },
      "execution_count": null,
      "outputs": [
        {
          "output_type": "error",
          "ename": "KeyError",
          "evalue": "ignored",
          "traceback": [
            "\u001b[0;31m---------------------------------------------------------------------------\u001b[0m",
            "\u001b[0;31mKeyError\u001b[0m                                  Traceback (most recent call last)",
            "\u001b[0;32m<ipython-input-99-30b6a11cc440>\u001b[0m in \u001b[0;36m<module>\u001b[0;34m\u001b[0m\n\u001b[1;32m      1\u001b[0m \u001b[0mplt\u001b[0m\u001b[0;34m.\u001b[0m\u001b[0mplot\u001b[0m\u001b[0;34m(\u001b[0m\u001b[0mhist\u001b[0m\u001b[0;34m.\u001b[0m\u001b[0mhistory\u001b[0m\u001b[0;34m[\u001b[0m\u001b[0;34m\"loss\"\u001b[0m\u001b[0;34m]\u001b[0m\u001b[0;34m)\u001b[0m\u001b[0;34m\u001b[0m\u001b[0;34m\u001b[0m\u001b[0m\n\u001b[0;32m----> 2\u001b[0;31m \u001b[0mplt\u001b[0m\u001b[0;34m.\u001b[0m\u001b[0mplot\u001b[0m\u001b[0;34m(\u001b[0m\u001b[0mhist\u001b[0m\u001b[0;34m.\u001b[0m\u001b[0mhistory\u001b[0m\u001b[0;34m[\u001b[0m\u001b[0;34m\"val_loss\"\u001b[0m\u001b[0;34m]\u001b[0m\u001b[0;34m)\u001b[0m\u001b[0;34m\u001b[0m\u001b[0;34m\u001b[0m\u001b[0m\n\u001b[0m\u001b[1;32m      3\u001b[0m \u001b[0mplt\u001b[0m\u001b[0;34m.\u001b[0m\u001b[0mtitle\u001b[0m\u001b[0;34m(\u001b[0m\u001b[0;34m\"model loss\"\u001b[0m\u001b[0;34m)\u001b[0m\u001b[0;34m\u001b[0m\u001b[0;34m\u001b[0m\u001b[0m\n\u001b[1;32m      4\u001b[0m \u001b[0mplt\u001b[0m\u001b[0;34m.\u001b[0m\u001b[0mylabel\u001b[0m\u001b[0;34m(\u001b[0m\u001b[0;34m\"loss\"\u001b[0m\u001b[0;34m)\u001b[0m\u001b[0;34m\u001b[0m\u001b[0;34m\u001b[0m\u001b[0m\n\u001b[1;32m      5\u001b[0m \u001b[0mplt\u001b[0m\u001b[0;34m.\u001b[0m\u001b[0mxlabel\u001b[0m\u001b[0;34m(\u001b[0m\u001b[0;34m\"epoch\"\u001b[0m\u001b[0;34m)\u001b[0m\u001b[0;34m\u001b[0m\u001b[0;34m\u001b[0m\u001b[0m\n",
            "\u001b[0;31mKeyError\u001b[0m: 'val_loss'"
          ]
        },
        {
          "output_type": "display_data",
          "data": {
            "text/plain": [
              "<Figure size 432x288 with 1 Axes>"
            ],
            "image/png": "[encoded data removed]"
          },
          "metadata": {
            "needs_background": "light"
          }
        }
      ]
    },
    {
      "cell_type": "code",
      "source": [
        "model.evaluate(X_test, y_test)"
      ],
      "metadata": {
        "colab": {
          "base_uri": "https://localhost:8080/"
        },
        "id": "Wx7L9pNBy_LC",
        "outputId": "8fe174b5-88cc-43c8-c47a-e29a430f2a37"
      },
      "execution_count": null,
      "outputs": [
        {
          "output_type": "stream",
          "name": "stdout",
          "text": [
            "4/4 [==============================] - 1s 223ms/step - loss: 0.3964 - accuracy: 0.8158\n"
          ]
        },
        {
          "output_type": "execute_result",
          "data": {
            "text/plain": [
              "[0.39644667506217957, 0.8157894611358643]"
            ]
          },
          "metadata": {},
          "execution_count": 106
        }
      ]
    },
    {
      "cell_type": "code",
      "source": [
        "X_test.shape"
      ],
      "metadata": {
        "colab": {
          "base_uri": "https://localhost:8080/"
        },
        "id": "pNnH22_79amc",
        "outputId": "6565a505-b7c2-444f-dcde-891252f94f24"
      },
      "execution_count": null,
      "outputs": [
        {
          "output_type": "execute_result",
          "data": {
            "text/plain": [
              "(114, 12)"
            ]
          },
          "metadata": {},
          "execution_count": 118
        }
      ]
    },
    {
      "cell_type": "code",
      "source": [
        "y_pred = model.predict(X_test)"
      ],
      "metadata": {
        "colab": {
          "base_uri": "https://localhost:8080/"
        },
        "id": "w2KLwGjomVVT",
        "outputId": "2f7c9cb5-24d3-4652-d9a7-0546933bd560"
      },
      "execution_count": null,
      "outputs": [
        {
          "output_type": "stream",
          "name": "stdout",
          "text": [
            "4/4 [==============================] - 1s 254ms/step\n"
          ]
        }
      ]
    },
    {
      "cell_type": "code",
      "source": [
        "y_pred"
      ],
      "metadata": {
        "colab": {
          "base_uri": "https://localhost:8080/"
        },
        "id": "Okel04vyFZxU",
        "outputId": "abb351a0-86ec-409d-c0b5-bcdff6036d69"
      },
      "execution_count": null,
      "outputs": [
        {
          "output_type": "execute_result",
          "data": {
            "text/plain": [
              "array([[0.29055578, 0.7094442 ],\n",
              "       [0.8568508 , 0.14314915],\n",
              "       [0.958392  , 0.04160801],\n",
              "       [0.10047944, 0.8995206 ],\n",
              "       [0.01902439, 0.98097557],\n",
              "       [0.14563878, 0.8543612 ],\n",
              "       [0.14188763, 0.85811234],\n",
              "       [0.7775158 , 0.22248414],\n",
              "       [0.04879938, 0.9512006 ],\n",
              "       [0.87743545, 0.12256451],\n",
              "       [0.34858617, 0.65141386],\n",
              "       [0.05316634, 0.9468336 ],\n",
              "       [0.93799657, 0.06200337],\n",
              "       [0.95622325, 0.04377675],\n",
              "       [0.95191836, 0.04808168],\n",
              "       [0.05942663, 0.9405733 ],\n",
              "       [0.8756042 , 0.1243958 ],\n",
              "       [0.15480252, 0.84519756],\n",
              "       [0.43637452, 0.5636255 ],\n",
              "       [0.89741766, 0.10258238],\n",
              "       [0.11821202, 0.881788  ],\n",
              "       [0.54956985, 0.4504301 ],\n",
              "       [0.60313123, 0.3968688 ],\n",
              "       [0.28448987, 0.71551013],\n",
              "       [0.88015974, 0.11984023],\n",
              "       [0.3761693 , 0.6238306 ],\n",
              "       [0.2453258 , 0.7546742 ],\n",
              "       [0.7809617 , 0.21903826],\n",
              "       [0.78752714, 0.21247278],\n",
              "       [0.01898481, 0.98101526],\n",
              "       [0.41691986, 0.5830801 ],\n",
              "       [0.4093669 , 0.59063315],\n",
              "       [0.87547016, 0.12452982],\n",
              "       [0.41208294, 0.58791703],\n",
              "       [0.26988673, 0.73011327],\n",
              "       [0.82462347, 0.1753765 ],\n",
              "       [0.01693451, 0.98306555],\n",
              "       [0.09252723, 0.90747267],\n",
              "       [0.80309016, 0.1969098 ],\n",
              "       [0.31160194, 0.688398  ],\n",
              "       [0.9154536 , 0.0845464 ],\n",
              "       [0.58290684, 0.4170932 ],\n",
              "       [0.7240158 , 0.2759842 ],\n",
              "       [0.9316121 , 0.06838793],\n",
              "       [0.1166482 , 0.88335174],\n",
              "       [0.10862915, 0.89137083],\n",
              "       [0.23101206, 0.768988  ],\n",
              "       [0.22829945, 0.7717005 ],\n",
              "       [0.06370086, 0.93629915],\n",
              "       [0.9097614 , 0.09023844],\n",
              "       [0.23498508, 0.76501495],\n",
              "       [0.42442745, 0.5755725 ],\n",
              "       [0.03409504, 0.96590495],\n",
              "       [0.6958859 , 0.30411407],\n",
              "       [0.09189694, 0.9081029 ],\n",
              "       [0.10401966, 0.89598036],\n",
              "       [0.89282906, 0.10717086],\n",
              "       [0.2297076 , 0.77029246],\n",
              "       [0.30647168, 0.69352823],\n",
              "       [0.26415232, 0.7358478 ],\n",
              "       [0.15183935, 0.8481606 ],\n",
              "       [0.62643313, 0.37356696],\n",
              "       [0.12127183, 0.87872815],\n",
              "       [0.19841984, 0.80158   ],\n",
              "       [0.96928734, 0.03071264],\n",
              "       [0.6382394 , 0.36176062],\n",
              "       [0.9351497 , 0.06485014],\n",
              "       [0.26478344, 0.7352166 ],\n",
              "       [0.7730353 , 0.22696473],\n",
              "       [0.08828255, 0.91171736],\n",
              "       [0.05610575, 0.9438942 ],\n",
              "       [0.0376728 , 0.9623272 ],\n",
              "       [0.9694722 , 0.03052771],\n",
              "       [0.96622944, 0.03377059],\n",
              "       [0.16008563, 0.8399142 ],\n",
              "       [0.07578343, 0.9242165 ],\n",
              "       [0.7456406 , 0.25435942],\n",
              "       [0.7486665 , 0.25133356],\n",
              "       [0.2729093 , 0.72709066],\n",
              "       [0.29212835, 0.7078717 ],\n",
              "       [0.7138941 , 0.2861059 ],\n",
              "       [0.1994408 , 0.8005591 ],\n",
              "       [0.8006495 , 0.1993504 ],\n",
              "       [0.89756095, 0.10243913],\n",
              "       [0.6146162 , 0.3853838 ],\n",
              "       [0.42912066, 0.5708793 ],\n",
              "       [0.34893894, 0.65106106],\n",
              "       [0.03993585, 0.9600642 ],\n",
              "       [0.22155966, 0.77844036],\n",
              "       [0.8679632 , 0.1320368 ],\n",
              "       [0.8013913 , 0.19860864],\n",
              "       [0.06973589, 0.93026406],\n",
              "       [0.28805378, 0.71194625],\n",
              "       [0.3053166 , 0.6946833 ],\n",
              "       [0.03390596, 0.966094  ],\n",
              "       [0.47157538, 0.52842456],\n",
              "       [0.39048874, 0.6095112 ],\n",
              "       [0.34295964, 0.65704036],\n",
              "       [0.4297411 , 0.570259  ],\n",
              "       [0.15044583, 0.8495542 ],\n",
              "       [0.05881917, 0.94118077],\n",
              "       [0.0640431 , 0.9359568 ],\n",
              "       [0.50932956, 0.49067047],\n",
              "       [0.0959114 , 0.9040886 ],\n",
              "       [0.70717114, 0.29282883],\n",
              "       [0.8867815 , 0.11321848],\n",
              "       [0.77501464, 0.22498533],\n",
              "       [0.8831464 , 0.11685354],\n",
              "       [0.9665718 , 0.03342819],\n",
              "       [0.74573874, 0.25426123],\n",
              "       [0.9712029 , 0.02879706],\n",
              "       [0.9315699 , 0.06843014],\n",
              "       [0.10765228, 0.89234775],\n",
              "       [0.14795572, 0.8520443 ]], dtype=float32)"
            ]
          },
          "metadata": {},
          "execution_count": 109
        }
      ]
    },
    {
      "cell_type": "code",
      "source": [
        "outputs = [np.argmax(x) for x in y_pred]"
      ],
      "metadata": {
        "id": "gSAcpqSZxxuq"
      },
      "execution_count": null,
      "outputs": []
    },
    {
      "cell_type": "code",
      "source": [
        "(outputs == y_test).value_counts()"
      ],
      "metadata": {
        "colab": {
          "base_uri": "https://localhost:8080/"
        },
        "id": "6rAAMOeYxebG",
        "outputId": "a9796ce6-a44b-403c-e6cb-44b9002cc409"
      },
      "execution_count": null,
      "outputs": [
        {
          "output_type": "execute_result",
          "data": {
            "text/plain": [
              "True     93\n",
              "False    21\n",
              "Name: FirstYearPersistence, dtype: int64"
            ]
          },
          "metadata": {},
          "execution_count": 117
        }
      ]
    },
    {
      "cell_type": "code",
      "source": [
        "model.save_weights('./checkpoints/my_checkpoint')"
      ],
      "metadata": {
        "id": "R4YjwB_gFDX2"
      },
      "execution_count": null,
      "outputs": []
    },
    {
      "cell_type": "code",
      "source": [
        "model.save('./saved_model/')"
      ],
      "metadata": {
        "id": "JKThmh9JF_E3"
      },
      "execution_count": null,
      "outputs": []
    },
    {
      "cell_type": "code",
      "source": [
        "X_test.iloc[0].to_numpy()"
      ],
      "metadata": {
        "colab": {
          "base_uri": "https://localhost:8080/"
        },
        "id": "RL_1MHCLLUyC",
        "outputId": "a5d1d033-263f-4f04-b668-f45e33f2bb48"
      },
      "execution_count": null,
      "outputs": [
        {
          "output_type": "execute_result",
          "data": {
            "text/plain": [
              "array([ 2.8460731 ,  2.82017558,  1.        ,  2.        ,  2.        ,\n",
              "        2.        ,  1.        ,  1.        ,  1.        , 66.        ,\n",
              "       17.        ,  7.        ])"
            ]
          },
          "metadata": {},
          "execution_count": 125
        }
      ]
    }
  ]
}